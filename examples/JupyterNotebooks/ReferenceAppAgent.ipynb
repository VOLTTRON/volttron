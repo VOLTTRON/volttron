{
 "cells": [
  {
   "cell_type": "markdown",
   "metadata": {},
   "source": [
    "# VOLTTRON Reference App"
   ]
  },
  {
   "cell_type": "markdown",
   "metadata": {},
   "source": [
    "This notebook installs VOLTTRON agents and other software that simulates participation in Open ADR (Automated Demand Response). \n",
    "\n",
    "In this simulation, an OpenADR Virtual Top Node (VTN) sends ADR event information to a VOLTTRON Virtual End Node (VEN) agent. The VEN transmits the event data to a ReferenceApp agent that controls the simulation. The ReferenceAppAgent responds by adjusting the behavior of a set of simulated device drivers. Report information is transmitted from the ReferenceAppAgent back to the VEN, which relies it to the VTN. Meanwhile, a Historian agent captures device metrics. The VOLTTRON Central web user interface graphs the device telemetry, and the VTN graphs ADR event telemetry.\n",
    "\n",
    "Further information about VOLTTRON's OpenADR agent is available [here](https://volttron.readthedocs.io/en/develop/core_services/openadr).\n",
    "\n",
    "Much of this notebook's setup and execution is done using shell commands, called from Python."
   ]
  },
  {
   "cell_type": "markdown",
   "metadata": {},
   "source": [
    "# Setup: Prepare the VOLTTRON Environment and Jupyter Server"
   ]
  },
  {
   "cell_type": "markdown",
   "metadata": {},
   "source": [
    "VOLTTRON must be installed before using this notebook. For detailed instructions on\n",
    "installing and configuring a VOLTTRON/Jupyter server environment, \n",
    "see [Jupyter Notebooks](http://volttron.readthedocs.io/en/develop/devguides/supporting/JupyterNotebooks.html) \n",
    "in VOLTTRON ReadTheDocs.\n",
    "\n",
    "As is described in that guide, environment variables should have been defined before starting \n",
    "the Jupyter server:\n",
    "\n",
    "````\n",
    "$ export VOLTTRON_ROOT=~/repos/volttron\n",
    "````\n",
    "        (path of the VOLTTRON repository, installed prior to running bootstrap)\n",
    "\n",
    "````\n",
    "$ export VOLTTRON_HOME=~/.volttron\n",
    "````\n",
    "        (directory in which the VOLTTRON instance runs)\n",
    "\n",
    "````\n",
    "$ cd $VOLTTRON_ROOT\n",
    "$ source env/bin/activate\n",
    "````\n",
    "        (activate the VOLTTRON virtual environment)\n",
    "\n",
    "````\n",
    "$ jupyter notebook\n",
    "````\n",
    "        (start the Jupyter notebook server)\n",
    "        \n",
    "The Python code below does some initialization to prepare for the steps that follow."
   ]
  },
  {
   "cell_type": "code",
   "execution_count": null,
   "metadata": {},
   "outputs": [],
   "source": [
    "import datetime\n",
    "import json\n",
    "import os\n",
    "import pprint\n",
    "import sqlite3\n",
    "import subprocess\n",
    "import sys\n",
    "import time\n",
    "\n",
    "# Define a \"run this shell command\" method, wrapping subprocess.check_output()\n",
    "def _sh(shell_command, shell=True, stderr=None):\n",
    "    try:\n",
    "        return_value = subprocess.check_output(shell_command, shell=shell, stderr=stderr)\n",
    "    except Exception, err:\n",
    "        print('Shell command failed: {}', shell_command)\n",
    "        print(err)\n",
    "        return_value = 'Error'\n",
    "    return return_value\n",
    "\n",
    "# Same as _sh(), except that this also prints the command output, preceded by an optional label.\n",
    "def _print_sh(shell_command, label=None, **kwargs):\n",
    "    print('{0}: {1}\\n'.format(label+':' if label else '', _sh(shell_command, **kwargs)))\n",
    "\n",
    "# Set up local variables vhome and vroot.\n",
    "# The environment variables VOLTTRON_ROOT and VOLTTRON_HOME should already be defined -- see above.\n",
    "vroot = %env VOLTTRON_ROOT\n",
    "vhome = %env VOLTTRON_HOME\n",
    "print(\"VOLTTRON_ROOT={}\".format(vroot))\n",
    "print(\"VOLTTRON_HOME={}\".format(vhome))\n",
    "\n",
    "# Define a VIP_SOCKET environment variable for use while installing and running agents.\n",
    "socket_name = 'ipc://' + vhome + '/run/vip.socket'\n",
    "%env VIP_SOCKET=$socket_name\n",
    "\n",
    "# Run from the VOLTTRON root directory.\n",
    "os.chdir(vroot)\n",
    "\n",
    "print(\"Initialization complete\")"
   ]
  },
  {
   "cell_type": "markdown",
   "metadata": {},
   "source": [
    "# Setup: Prepare the Simulation Environment"
   ]
  },
  {
   "cell_type": "markdown",
   "metadata": {},
   "source": [
    "The simulation software resides in a separate repository, volttron-applications.\n",
    "\n",
    "The repository must be downloaded from github, creating a new directory parallel to $VOLTTRON_ROOT, as follows:\n",
    "\n",
    "````\n",
    "$ cd $VOLTTRON_ROOT\n",
    "$ cd ..\n",
    "$ git clone git://github.com/VOLTTRON/volttron-applications.git\n",
    "````\n",
    "\n",
    "Then a symbolic link named \"applications\" should be added under $VOLTTRON_ROOT:\n",
    "\n",
    "````\n",
    "$ cd $VOLTTRON_ROOT\n",
    "$ ln -s ../volttron-applications/ applications\n",
    "````"
   ]
  },
  {
   "cell_type": "markdown",
   "metadata": {},
   "source": [
    "# Setup: Install and Start the OpenADR VTN Server"
   ]
  },
  {
   "cell_type": "markdown",
   "metadata": {},
   "source": [
    "Because a core component of the simulation is the VEN agent's communication with the VTN, the VTN (which is a separate server, not a VOLTTRON agent) must be installed and started. The documentation for such installation can be found [here](https://volttron.readthedocs.io/en/latest/core_services/openadr/VtnServerConfig.html)."
   ]
  },
  {
   "cell_type": "markdown",
   "metadata": {},
   "source": [
    "# Setup: Shut Down All Agents"
   ]
  },
  {
   "cell_type": "markdown",
   "metadata": {},
   "source": [
    "This ensures a clean agent installation process by the notebook."
   ]
  },
  {
   "cell_type": "code",
   "execution_count": null,
   "metadata": {},
   "outputs": [],
   "source": [
    "print('Wait for the list to be displayed, and confirm that no agents are listed as running...\\n')\n",
    "\n",
    "# Shut down all agents.\n",
    "_sh('volttron-ctl shutdown')\n",
    "\n",
    "# List agent status to verify that the status of each agent is 0 or blank.\n",
    "_print_sh('volttron-ctl status', stderr=subprocess.STDOUT)"
   ]
  },
  {
   "cell_type": "markdown",
   "metadata": {},
   "source": [
    "# Setup: Install Agents"
   ]
  },
  {
   "cell_type": "markdown",
   "metadata": {},
   "source": [
    "Install each agent that will be employed by the simulation: \n",
    "\n",
    "* A ReferenceApp agent\n",
    "* An OpenADR VEN agent\n",
    "* A simulation clock agent\n",
    "* A simulation driver agent\n",
    "* An actuator agent\n",
    "* A VolttronCentral agent\n",
    "* A VolttronCentralPlatform agent\n",
    "* A platform historian agent"
   ]
  },
  {
   "cell_type": "code",
   "execution_count": null,
   "metadata": {},
   "outputs": [],
   "source": [
    "print('Wait for the list to be displayed, then confirm that all of the agents appear in it...')\n",
    "\n",
    "def install_agent(dir=None, id=None, config=None, tag=None):\n",
    "    script_install_command = 'python scripts/install-agent.py -s {0} -i {1} -c {2} -t {3} -f'\n",
    "    _sh(script_install_command.format(dir, id, config, tag))\n",
    "    print('Installed {}'.format(tag))\n",
    "\n",
    "# Install the SimulationDriver Agent\n",
    "agent_root = vroot + '/applications/kisensum/Simulation/SimulationDriverAgent'\n",
    "install_agent(dir=agent_root,\n",
    "              id='simulation.driver',\n",
    "              config=agent_root+'/simulationdriver.config',\n",
    "              tag='simulation.driver')\n",
    "\n",
    "# Install the SimulationClock Agent\n",
    "agent_root = vroot + '/applications/kisensum/Simulation/SimulationClockAgent'\n",
    "install_agent(dir=agent_root,\n",
    "              id='simulationclock',\n",
    "              config=agent_root+'/simulationclock.config', \n",
    "              tag='simulationclock')\n",
    "\n",
    "# Install the ReferenceApp Agent\n",
    "agent_root = vroot + '/applications/kisensum/ReferenceAppAgent'\n",
    "install_agent(dir=agent_root,\n",
    "              id='referenceappagent',\n",
    "              config=agent_root+'/referenceappagent.config', \n",
    "              tag='referenceappagent')\n",
    "\n",
    "# Install an OpenADR VEN Agent\n",
    "agent_root = vroot + '/services/core/OpenADRVenAgent'\n",
    "install_agent(dir=agent_root,\n",
    "              id='venagent',\n",
    "              config=agent_root+'/config',\n",
    "              tag='venagent')\n",
    "\n",
    "# Install a Volttron Central Platform Agent\n",
    "agent_root = vroot + '/services/core/VolttronCentralPlatform'\n",
    "install_agent(dir=agent_root,\n",
    "              id='platform.agent',\n",
    "              config=vroot+'/applications/kisensum/ReferenceAppAgent/vcp_simulation.config', \n",
    "              tag='vcp')\n",
    "\n",
    "# Install a Volttron Central Agent\n",
    "agent_root = vroot + '/services/core/VolttronCentral'\n",
    "install_agent(dir=agent_root,\n",
    "              id='volttron.central',\n",
    "              config=agent_root+'/config', \n",
    "              tag='vc')\n",
    "\n",
    "# Install an Actuator Agent\n",
    "agent_root = vroot + '/services/core/ActuatorAgent'\n",
    "install_agent(dir=agent_root,\n",
    "              id='simulation.actuator',\n",
    "              config=vroot+'/applications/kisensum/ReferenceAppAgent/actuator.config',\n",
    "              tag='simulation.actuator')\n",
    "\n",
    "# Install a Platform SQLHistorian Agent\n",
    "agent_root = vroot + '/services/core/SQLHistorian'\n",
    "config = \"\"\"{{\n",
    "    \"agentid\": \"sqlhistorian-sqlite\",\n",
    "    \"connection\": {{\n",
    "        \"type\": \"sqlite\",\n",
    "        \"params\": {{\n",
    "            \"database\": \"{0}/data/platform.historian.sqlite\"\n",
    "        }}\n",
    "    }}\n",
    "}}\"\"\".format(vhome)\n",
    "with open(vhome+'/platform_historian.config', 'w') as file:\n",
    "    file.write(config)\n",
    "install_agent(dir=agent_root,\n",
    "              id='platform.historian',\n",
    "              config=vhome+'/platform_historian.config',\n",
    "              tag='platform_historian')\n",
    "\n",
    "# List agent status to verify that the agents were installed successfully.\n",
    "_print_sh('volttron-ctl status', stderr=subprocess.STDOUT)"
   ]
  },
  {
   "cell_type": "markdown",
   "metadata": {},
   "source": [
    "# Setup: Install Simulation Device Drivers"
   ]
  },
  {
   "cell_type": "markdown",
   "metadata": {},
   "source": [
    "The simulation relies on device drivers that simulate building load, solar power and battery charging/discharging. Further information on the simulation subsystem is available [here](http://volttron.readthedocs.io/en/develop/volttron_applications/Simulated-Drivers.html)."
   ]
  },
  {
   "cell_type": "code",
   "execution_count": null,
   "metadata": {},
   "outputs": [],
   "source": [
    "print('Wait for the simulation driver configs to be displayed, then confirm that all of these configs appear in it...')\n",
    "\n",
    "driver_root = vroot + '/applications/kisensum/Simulation/SimulationDriverAgent/'\n",
    "\n",
    "def install_driver_csv(name=None, csv=None):\n",
    "    _sh('volttron-ctl config store simulation.driver {0} {1} --csv'.format(name, driver_root + csv))\n",
    "\n",
    "def install_driver_config(name=None, config=None):\n",
    "    _sh('volttron-ctl config store simulation.driver {0} {1}'.format(name, driver_root + config))\n",
    "    \n",
    "# Install simload, the simulated load driver\n",
    "install_driver_csv(name='simload.csv', csv='simload.csv')\n",
    "install_driver_config(name='devices/campus1/building1/simload', config='simload.config')\n",
    "\n",
    "# Install simpv, the simulated PV driver\n",
    "install_driver_csv(name='simpv.csv', csv='simpv.csv')\n",
    "install_driver_config(name='devices/campus1/building1/simpv', config='simpv.config')\n",
    "\n",
    "# Install simstorage, the simulated storage driver\n",
    "install_driver_csv(name='simstorage.csv', csv='simstorage.csv')\n",
    "install_driver_config(name='devices/campus1/building1/simstorage', config='simstorage.config')\n",
    "\n",
    "# List the Simulation Driver configuration to confirm that the drivers were installed successfully.\n",
    "_print_sh('volttron-ctl config list simulation.driver')"
   ]
  },
  {
   "cell_type": "markdown",
   "metadata": {},
   "source": [
    "# Execution: Refresh Variables and Stop Agents"
   ]
  },
  {
   "cell_type": "markdown",
   "metadata": {},
   "source": [
    "Before starting the agents, refresh all variables and make sure that all agents are stopped."
   ]
  },
  {
   "cell_type": "code",
   "execution_count": null,
   "metadata": {},
   "outputs": [],
   "source": [
    "print('Make a fresh start - refresh variable definitions, shut down any running agents, refresh the database')\n",
    "\n",
    "import datetime\n",
    "import json\n",
    "import os\n",
    "import pprint\n",
    "import sqlite3\n",
    "import subprocess\n",
    "import sys\n",
    "import time\n",
    "\n",
    "# Define a \"run this shell command\" method, wrapping subprocess.check_output()\n",
    "def _sh(shell_command, shell=True, stderr=None):\n",
    "    try:\n",
    "        return_value = subprocess.check_output(shell_command, shell=shell, stderr=stderr)\n",
    "    except Exception, err:\n",
    "        print('Shell command failed: {}', shell_command)\n",
    "        print(err)\n",
    "        return_value = 'Error'\n",
    "    return return_value\n",
    "\n",
    "# Same as _sh(), except that this also prints the command output, preceded by an optional label.\n",
    "def _print_sh(shell_command, label=None, **kwargs):\n",
    "    print('{0}: {1}\\n'.format(label+':' if label else '', _sh(shell_command, **kwargs)))\n",
    "\n",
    "# Set up local variables vhome and vroot.\n",
    "# The environment variables VOLTTRON_ROOT and VOLTTRON_HOME should already be defined -- see above.\n",
    "vroot = %env VOLTTRON_ROOT\n",
    "vhome = %env VOLTTRON_HOME\n",
    "print(\"VOLTTRON_ROOT={}\".format(vroot))\n",
    "print(\"VOLTTRON_HOME={}\".format(vhome))\n",
    "\n",
    "# Define a VIP_SOCKET environment variable for use while installing and running agents.\n",
    "socket_name = 'ipc://' + vhome + '/run/vip.socket'\n",
    "%env VIP_SOCKET=$socket_name\n",
    "\n",
    "# Run from the VOLTTRON root directory.\n",
    "os.chdir(vroot)\n",
    "\n",
    "# Shut down all agents.\n",
    "_sh('volttron-ctl shutdown')\n",
    "\n",
    "# List agent status to verify that the status of each agent is 0 or blank.\n",
    "_print_sh('volttron-ctl status', stderr=subprocess.STDOUT)"
   ]
  },
  {
   "cell_type": "markdown",
   "metadata": {},
   "source": [
    "# Execution: Start Agents"
   ]
  },
  {
   "cell_type": "markdown",
   "metadata": {},
   "source": [
    "When ready to start the simulation and interact with the VTN, start the agents."
   ]
  },
  {
   "cell_type": "code",
   "execution_count": null,
   "metadata": {},
   "outputs": [],
   "source": [
    "print('Wait for the list to be displayed, then confirm that each started agent is running...')\n",
    "\n",
    "_sh('volttron-ctl start --tag vcp')\n",
    "_sh('volttron-ctl start --tag vc')\n",
    "_sh('volttron-ctl start --tag platform_historian')\n",
    "_sh('volttron-ctl start --tag simulationclock')\n",
    "_sh('volttron-ctl start --tag simulation.driver')\n",
    "_sh('volttron-ctl start --tag simulation.actuator')\n",
    "_sh('volttron-ctl start --tag venagent')\n",
    "_sh('volttron-ctl start --tag referenceappagent')\n",
    "\n",
    "\n",
    "# List agent status to verify that the started agents have status \"running\".\n",
    "_print_sh('volttron-ctl status', stderr=subprocess.STDOUT)"
   ]
  },
  {
   "cell_type": "markdown",
   "metadata": {},
   "source": [
    "# Use VOLTTRON Central to Observe Device Metrics"
   ]
  },
  {
   "cell_type": "markdown",
   "metadata": {},
   "source": [
    "Run VOLTTRON Central in a browser to report on simulated device metrics. Information on interacting with the browser interface is available [here](http://volttron.readthedocs.io/en/develop/core_services/service_agents/central_management/VOLTTRON-Central.html)."
   ]
  },
  {
   "cell_type": "markdown",
   "metadata": {},
   "source": [
    "# Set Up an Event in the OpenADR VTN"
   ]
  },
  {
   "cell_type": "markdown",
   "metadata": {},
   "source": [
    "Following the guidelines in \n",
    "the [OpenADR User Guide](http://volttron.readthedocs.io/en/develop/core_services/openadr/VtnServerGuide.html), \n",
    "use the VTN to create an event and view a graph of the event's reported power metrics."
   ]
  },
  {
   "cell_type": "code",
   "execution_count": null,
   "metadata": {
    "collapsed": true
   },
   "outputs": [],
   "source": []
  }
 ],
 "metadata": {
  "kernelspec": {
   "display_name": "Python 2",
   "language": "python",
   "name": "python2"
  },
  "language_info": {
   "codemirror_mode": {
    "name": "ipython",
    "version": 2
   },
   "file_extension": ".py",
   "mimetype": "text/x-python",
   "name": "python",
   "nbconvert_exporter": "python",
   "pygments_lexer": "ipython2",
   "version": "2.7.14"
  }
 },
 "nbformat": 4,
 "nbformat_minor": 2
}
