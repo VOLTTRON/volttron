{
 "cells": [
  {
   "cell_type": "markdown",
   "metadata": {},
   "source": [
    "# VOLTTRON Observer Notebook"
   ]
  },
  {
   "cell_type": "markdown",
   "metadata": {},
   "source": [
    "This Observer notebook sets up and executes a DataPuller that captures\n",
    "data from another VOLTTRON instance. It uses a Historian to record the data.\n",
    "\n",
    "The notebook also uses the Message Debugger agent to monitor messages\n",
    "flowing across the VOLTTRON bus.\n",
    "\n",
    "Most of the notebook's setup and execution is done with shell commands, called from Python."
   ]
  },
  {
   "cell_type": "markdown",
   "metadata": {},
   "source": [
    "# Setup: Prepare the Volttron Environment"
   ]
  },
  {
   "cell_type": "markdown",
   "metadata": {},
   "source": [
    "VOLTTRON must be installed before using this notebook. For detailed instructions on\n",
    "installing and configuring a VOLTTRON/Jupyter server environment, see [Jupyter Notebooks](http://volttron.readthedocs.io/en/devguides/supporting/utilities/JupyterNotebooks.html) \n",
    "in VOLTTRON ReadTheDocs.\n",
    "\n",
    "As is described in that guide, environment variables should have been defined before starting \n",
    "the Jupyter server:\n",
    "\n",
    "````\n",
    "$ export VOLTTRON_ROOT=~/repos/volttron\n",
    "````\n",
    "        (path of the VOLTTRON repository, installed prior to running bootstrap)\n",
    "\n",
    "````\n",
    "$ export VOLTTRON_HOME=~/.volttron\n",
    "````\n",
    "        (directory in which the VOLTTRON instance runs)\n",
    "\n",
    "The first VOLTTRON instance on a server usually runs, by convention, in ~/.volttron.\n",
    "If multiple VOLTTRON instances are to be run on a single host, each must have its own VOLTTRON_HOME.\n",
    "\n",
    "Also before starting the Jupyter server, a VOLTTRON virtual environment should have been \n",
    "activated by executing the following in $VOLTTRON_ROOT:\n",
    "\n",
    "````\n",
    "$ source env/bin/activate\n",
    "````\n",
    "\n",
    "The Python code below does some initialization to prepare for the steps that follow."
   ]
  },
  {
   "cell_type": "code",
   "execution_count": null,
   "metadata": {
    "collapsed": true
   },
   "outputs": [],
   "source": [
    "import datetime\n",
    "import json\n",
    "import os\n",
    "import pprint\n",
    "import sqlite3\n",
    "import subprocess\n",
    "import sys\n",
    "import time\n",
    "\n",
    "# Define a \"run this shell command\" method, wrapping subprocess.check_output()\n",
    "def _sh(shell_command, shell=True, stderr=None):\n",
    "    try:\n",
    "        return_value = subprocess.check_output(shell_command, shell=shell, stderr=stderr)\n",
    "    except Exception, err:\n",
    "        print('Shell command failed: {}', shell_command)\n",
    "        print(err)\n",
    "        return_value = 'Error'\n",
    "    return return_value\n",
    "\n",
    "# Same as _sh(), except that this also prints the command output, preceded by an optional label.\n",
    "def _print_sh(shell_command, label=None, **kwargs):\n",
    "    print('{0}: {1}\\n'.format(label+':' if label else '', _sh(shell_command, **kwargs)))\n",
    "\n",
    "# Set up local variables vhome and vroot.\n",
    "# The environment variables VOLTTRON_ROOT and VOLTTRON_HOME should already be defined -- see above.\n",
    "vroot = %env VOLTTRON_ROOT\n",
    "vhome = %env VOLTTRON_HOME\n",
    "print(\"VOLTTRON_ROOT={}\".format(vroot))\n",
    "print(\"VOLTTRON_HOME={}\".format(vhome))\n",
    "\n",
    "# Define a VIP_SOCKET environment variable for use while installing and running agents.\n",
    "socket_name = 'ipc://' + vhome + '/run/vip.socket'\n",
    "%env VIP_SOCKET=$socket_name\n",
    "\n",
    "# Run from the VOLTTRON root directory.\n",
    "os.chdir(vroot)\n",
    "\n",
    "data_dir = vhome + '/data'\n",
    "\n",
    "print(\"Initialization complete\")"
   ]
  },
  {
   "cell_type": "markdown",
   "metadata": {},
   "source": [
    "# Setup: Shut Down All Agents"
   ]
  },
  {
   "cell_type": "markdown",
   "metadata": {},
   "source": [
    "This ensures a clean agent installation process by the notebook."
   ]
  },
  {
   "cell_type": "code",
   "execution_count": null,
   "metadata": {
    "collapsed": true
   },
   "outputs": [],
   "source": [
    "print('Wait for the list to be displayed, and confirm that no agents are listed as running...\\n')\n",
    "\n",
    "# Shut down all agents.\n",
    "_sh('volttron-ctl shutdown')\n",
    "\n",
    "# List agent status to verify that the status of each agent is 0 or blank.\n",
    "_print_sh('volttron-ctl status', stderr=subprocess.STDOUT)"
   ]
  },
  {
   "cell_type": "markdown",
   "metadata": {},
   "source": [
    "# Setup: Discover the Observer's Network Parameters"
   ]
  },
  {
   "cell_type": "markdown",
   "metadata": {},
   "source": [
    "The Aggregagator must know each Observer's network parameters\n",
    "for authentication purposes.\n",
    "Discover those parameters now.\n",
    "\n",
    "Copy the vip-address's IP and port, and the serverkey,\n",
    "to the Aggregator notebook under\n",
    "'Setup: Configure the Aggregator's Network Parameters'.\n",
    "\n",
    "Also, make sure that this port is open for TCP access on the Observer's host.\n",
    "\n",
    "In order for this Observer to pull data from an Aggregator, the Aggregator\n",
    "must know the Observer's network parameters, storing them in its known_hosts file.\n",
    "Discover those parameters now.\n",
    "\n",
    "Copy the vip-address's IP and port, and the serverkey,\n",
    "to the Aggregator notebook under \n",
    "'Setup: Add Each Observer to the known_hosts File',\n",
    "and execute that notebook's code to add this Observer to known_hosts."
   ]
  },
  {
   "cell_type": "code",
   "execution_count": null,
   "metadata": {
    "collapsed": true
   },
   "outputs": [],
   "source": [
    "# Obtain this server's IP address, volttron port number (usually 22916), and server key:\n",
    "print('Obtaining network parameters and server key; please wait...\\n')\n",
    "_print_sh('curl ifconfig.me', label='Public IP address')\n",
    "_print_sh('volttron-ctl auth serverkey', label='Serverkey')\n",
    "_print_sh('cat {}/config'.format(vhome), label='Config file')"
   ]
  },
  {
   "cell_type": "markdown",
   "metadata": {},
   "source": [
    "# Setup: Configure the Aggregator's Network Parameters"
   ]
  },
  {
   "cell_type": "markdown",
   "metadata": {},
   "source": [
    "This Observer pulls data from an Aggregator, so it must be\n",
    "configured with the Aggregator's IP address, port number and server key.\n",
    "\n",
    "Define those parameters here. \n",
    "\n",
    "Obtain them from the Aggregator notebook,\n",
    "'Setup: Discover the Aggregator's Network Parameters'."
   ]
  },
  {
   "cell_type": "code",
   "execution_count": null,
   "metadata": {
    "collapsed": true
   },
   "outputs": [],
   "source": [
    "aggregator_vip_address = '54.67.31.234'\n",
    "aggregator_vip_port = '22916'\n",
    "aggregator_server_key = 'A_WyNaTRQu3jkMeX6NgmchCCnPsYhZUjnt2zdAyf0HU'\n",
    "\n",
    "aggregator_vip = \"tcp://{0}:{1}\".format(aggregator_vip_address, aggregator_vip_port)\n",
    "\n",
    "print('vip = {0}'.format(aggregator_vip))\n",
    "print('aggregator_server_key = {0}'.format(aggregator_server_key))"
   ]
  },
  {
   "cell_type": "markdown",
   "metadata": {},
   "source": [
    "# Setup: Test the TCP Connection"
   ]
  },
  {
   "cell_type": "markdown",
   "metadata": {},
   "source": [
    "The DataPuller will send requests to the VOLTTRON Aggregator instance\n",
    "via TCP commands. Test that the Aggregator instance is capable of receiving\n",
    "TCP requests on the designated IP address and port.\n",
    "\n",
    "If this test fails, the port may not be open on the other server (firewall issue?),\n",
    "the request may be for the wrong IP address and/or port ID,\n",
    "or the other server's VOLTTRON instance may be down or incorrectly configured."
   ]
  },
  {
   "cell_type": "code",
   "execution_count": null,
   "metadata": {
    "collapsed": true
   },
   "outputs": [],
   "source": [
    "# Use an 'nc' (netcat) command to test the TCP connection\n",
    "shell_command = 'nc -z -vv -w5 {0} {1}'.format(aggregator_vip_address, aggregator_vip_port)\n",
    "_print_sh(shell_command, label='Network connection test result', stderr=subprocess.STDOUT)"
   ]
  },
  {
   "cell_type": "markdown",
   "metadata": {},
   "source": [
    "# Setup: Configure a DataPuller"
   ]
  },
  {
   "cell_type": "markdown",
   "metadata": {},
   "source": [
    "Create a configuration file for this collector's DataPuller.\n",
    "\n",
    "The file specifies the Aggregator's IP address, port and server key,\n",
    "and indicates which topics should be pulled."
   ]
  },
  {
   "cell_type": "code",
   "execution_count": null,
   "metadata": {
    "collapsed": true
   },
   "outputs": [],
   "source": [
    "config = \"\"\"{{\n",
    "    \"agentid\": \"datapuller\",\n",
    "    \"source-vip\": \"{0}\",\n",
    "    \"source-serverkey\": \"{1}\",\n",
    "    \"required_target_agents\": [],\n",
    "    \"custom_topic_list\": [\"simstorage\"],\n",
    "    \"services_topic_list\": [\"devices\"],\n",
    "    \"topic_replace_list\": [\n",
    "        {{\n",
    "            \"from\": \"FromString\", \n",
    "            \"to\": \"ToString\"\n",
    "        }}\n",
    "    ]\n",
    "}}\"\"\".format(aggregator_vip, aggregator_server_key)\n",
    "print(\"config = {}\".format(config))\n",
    "config_path = vhome + '/my_datapuller.config'\n",
    "with open(config_path, 'w') as file:\n",
    "    file.write(config)\n",
    "print('Datapuller configuration written to {}'.format(config_path))"
   ]
  },
  {
   "cell_type": "markdown",
   "metadata": {},
   "source": [
    "# Setup: Configure a SQLHistorian"
   ]
  },
  {
   "cell_type": "code",
   "execution_count": null,
   "metadata": {
    "collapsed": true
   },
   "outputs": [],
   "source": [
    "# Create a SQLHistorian configuration specifically for this project\n",
    "\n",
    "# The historian's database will reside in $VOLTTRON_HOME/data. \n",
    "# Make sure that the directory exists.\n",
    "if not os.path.exists(data_dir):\n",
    "    _sh('mkdir {}'.format(data_dir))\n",
    "\n",
    "config = '''{{\n",
    "    \"agentid\": \"sqlhistorian-sqlite\",\n",
    "    \"connection\": {{\n",
    "        \"type\": \"sqlite\",\n",
    "        \"params\": {{\n",
    "            \"database\": \"{0}/historian.sqlite\"\n",
    "        }}\n",
    "    }},\n",
    "    \"tables_def\": {{\n",
    "        \"table_prefix\": \"\",\n",
    "        \"data_table\": \"data_table\",\n",
    "        \"topics_table\": \"topics_table\",\n",
    "        \"meta_table\": \"meta_table\"\n",
    "    }}\n",
    "}}'''.format(data_dir)\n",
    "print(\"config = {}\".format(config))\n",
    "config_path = vhome + '/my_observer_historian.config'\n",
    "with open(config_path, 'w') as file:\n",
    "    file.write(config)\n",
    "print('Historian configuration written to {}'.format(config_path))"
   ]
  },
  {
   "cell_type": "markdown",
   "metadata": {},
   "source": [
    "# Setup: Install Agents"
   ]
  },
  {
   "cell_type": "markdown",
   "metadata": {},
   "source": [
    "Install each agent employed by the Observer: a DataPuller, a SQLHistorian, a Message Debugger, and 2 Volttron Central agents."
   ]
  },
  {
   "cell_type": "code",
   "execution_count": null,
   "metadata": {
    "collapsed": true
   },
   "outputs": [],
   "source": [
    "print('Wait for the list to be displayed, then confirm that all of these agents appear in it...')\n",
    "\n",
    "def install_agent(dir=None, id=None, config=None, tag=None):\n",
    "    script_install_command = 'python scripts/install-agent.py -s {0} -i {1} -c {2} -t {3} -f'\n",
    "    _sh(script_install_command.format(dir, id, config, tag))\n",
    "    print('Installed {}'.format(tag))\n",
    "\n",
    "# Install a DataPuller agent that pulls metrics from another VOLTTRON instance\n",
    "install_agent(dir=vroot+'/examples/DataPuller',\n",
    "              id='datapuller',\n",
    "              config=vhome+'/my_datapuller.config',\n",
    "              tag='datapuller')\n",
    "    \n",
    "# Install a SQL Historian agent that captures metrics in a SQLite database\n",
    "install_agent(dir=vroot+'/services/core/SQLHistorian',\n",
    "              id='sqlite_historian',\n",
    "              config=vhome+'/my_observer_historian.config',\n",
    "              tag='sqlite_historian')\n",
    "\n",
    "# Install a Message Debugger agent.\n",
    "install_agent(dir=vroot+'/services/core/MessageDebuggerAgent',\n",
    "              id='messagedebugger',\n",
    "              config=vroot+'/services/core/MessageDebuggerAgent/messagedebugger.config',\n",
    "              tag='messagedebugger')\n",
    "\n",
    "# Install a Platform Agent\n",
    "install_agent(dir=vroot+'/services/core/VolttronCentralPlatform',\n",
    "              id='platform.agent',\n",
    "              config=vroot+'/services/core/VolttronCentralPlatform/config', \n",
    "              tag='vcp')\n",
    "\n",
    "# Install a Volttron Central Agent\n",
    "install_agent(dir=vroot+'/services/core/VolttronCentral',\n",
    "              id='volttron.central',\n",
    "              config=vroot+'/services/core/VolttronCentral/config', \n",
    "              tag='vc')\n",
    "\n",
    "# List agent status to verify that the agents were installed successfully.\n",
    "_print_sh('volttron-ctl status', stderr=subprocess.STDOUT)"
   ]
  },
  {
   "cell_type": "markdown",
   "metadata": {},
   "source": [
    "# Setup: Get the Observer's datapuller Credentials"
   ]
  },
  {
   "cell_type": "markdown",
   "metadata": {},
   "source": [
    "The Observer's DataPuller agent needs to authenticate to the Aggregator. Authentication is facilitated by adding the agent's credentials to the Aggregator's auth.json file.\n",
    "\n",
    "Copy the PUBLICKEY from the command output below. On the Aggregator, run `volttron-ctl auth add` from the command line. When prompted for credentials, paste the key."
   ]
  },
  {
   "cell_type": "code",
   "execution_count": null,
   "metadata": {
    "collapsed": true
   },
   "outputs": [],
   "source": [
    "_print_sh('volttron-ctl auth publickey --tag datapuller')"
   ]
  },
  {
   "cell_type": "markdown",
   "metadata": {},
   "source": [
    "# Setup: Start All Agents"
   ]
  },
  {
   "cell_type": "markdown",
   "metadata": {},
   "source": [
    "When ready to start monitoring messages and observing data pulled from the Aggregator, start the agents."
   ]
  },
  {
   "cell_type": "code",
   "execution_count": null,
   "metadata": {
    "collapsed": true
   },
   "outputs": [],
   "source": [
    "print('Wait for the list to be displayed, then confirm that each started agent is running...')\n",
    "\n",
    "_sh('volttron-ctl start --tag datapuller')\n",
    "_sh('volttron-ctl start --tag messagedebugger')\n",
    "_sh('volttron-ctl start --tag sqlite_historian')\n",
    "_sh('volttron-ctl start --tag vcp')\n",
    "_sh('volttron-ctl start --tag vc')\n",
    "\n",
    "# List agent status to verify that the started agents have status \"running\".\n",
    "_print_sh('volttron-ctl status', stderr=subprocess.STDOUT)"
   ]
  },
  {
   "cell_type": "markdown",
   "metadata": {},
   "source": [
    "# Execution: Refresh variables, stop agents, delete database"
   ]
  },
  {
   "cell_type": "code",
   "execution_count": null,
   "metadata": {
    "collapsed": true
   },
   "outputs": [],
   "source": [
    "print('Make a fresh start - refresh variable definitions, shut down any running agents, refresh the database')\n",
    "\n",
    "import datetime\n",
    "import json\n",
    "import os\n",
    "import pprint\n",
    "import sqlite3\n",
    "import subprocess\n",
    "import sys\n",
    "import time\n",
    "\n",
    "# Define a \"run this shell command\" method, wrapping subprocess.check_output()\n",
    "def _sh(shell_command, shell=True, stderr=None):\n",
    "    try:\n",
    "        return_value = subprocess.check_output(shell_command, shell=shell, stderr=stderr)\n",
    "    except Exception, err:\n",
    "        print('Shell command failed: {}', shell_command)\n",
    "        print(err)\n",
    "        return_value = 'Error'\n",
    "    return return_value\n",
    "\n",
    "# Same as _sh(), except that this also prints the command output, preceded by an optional label.\n",
    "def _print_sh(shell_command, label=None, **kwargs):\n",
    "    print('{0}: {1}\\n'.format(label+':' if label else '', _sh(shell_command, **kwargs)))\n",
    "\n",
    "# Set up local variables vhome and vroot.\n",
    "# The environment variables VOLTTRON_ROOT and VOLTTRON_HOME should already be defined -- see above.\n",
    "vroot = %env VOLTTRON_ROOT\n",
    "vhome = %env VOLTTRON_HOME\n",
    "print(\"VOLTTRON_ROOT={}\".format(vroot))\n",
    "print(\"VOLTTRON_HOME={}\".format(vhome))\n",
    "\n",
    "# Define a VIP_SOCKET environment variable for use while installing and running agents.\n",
    "socket_name = 'ipc://' + vhome + '/run/vip.socket'\n",
    "%env VIP_SOCKET=$socket_name\n",
    "\n",
    "# Run from the VOLTTRON root directory.\n",
    "os.chdir(vroot)\n",
    "\n",
    "data_dir = vhome + '/data'\n",
    "\n",
    "# List agent status to verify that the status of each agent is 0 or blank.\n",
    "_print_sh('volttron-ctl status', stderr=subprocess.STDOUT)"
   ]
  },
  {
   "cell_type": "markdown",
   "metadata": {},
   "source": [
    "# Data Reporting: Prepare to Execute Sqlite Commands"
   ]
  },
  {
   "cell_type": "code",
   "execution_count": null,
   "metadata": {
    "collapsed": true
   },
   "outputs": [],
   "source": [
    "# Define a function that executes SQLite commands on our Historian database\n",
    "def run_sqlite_cmd(command_string):\n",
    "    _print_sh('sqlite3 {0} {1}'.format(data_dir + '/historian.sqlite', command_string))"
   ]
  },
  {
   "cell_type": "markdown",
   "metadata": {},
   "source": [
    "# Data Reporting: Describe the Historian's Database Schema"
   ]
  },
  {
   "cell_type": "markdown",
   "metadata": {},
   "source": [
    "Start the data reporting process by displaying the schema of the Historian's SQLite database."
   ]
  },
  {
   "cell_type": "code",
   "execution_count": null,
   "metadata": {
    "collapsed": true
   },
   "outputs": [],
   "source": [
    "run_sqlite_cmd('\".schema\"')"
   ]
  },
  {
   "cell_type": "markdown",
   "metadata": {},
   "source": [
    "# Data Reporting: List the Topics"
   ]
  },
  {
   "cell_type": "markdown",
   "metadata": {},
   "source": [
    "List each topic in the database's topics_table. This is the list of each type of data that has been captured and stored."
   ]
  },
  {
   "cell_type": "code",
   "execution_count": null,
   "metadata": {
    "collapsed": true
   },
   "outputs": [],
   "source": [
    "run_sqlite_cmd('\"SELECT * FROM topics_table;\"')"
   ]
  },
  {
   "cell_type": "markdown",
   "metadata": {},
   "source": [
    "# Data Reporting: List Values for a Single Topic"
   ]
  },
  {
   "cell_type": "markdown",
   "metadata": {},
   "source": [
    "Select a single topic by name, and list each value in the database for it."
   ]
  },
  {
   "cell_type": "code",
   "execution_count": null,
   "metadata": {
    "collapsed": true
   },
   "outputs": [],
   "source": [
    "topic_name = 'simstorage/power_kw'\n",
    "# topic_name = 'my_chargepoint/portLoad'\n",
    "start_time = '2017-09-06T22:00:00.000000+00:00'\n",
    "stop_time = '2017-09-013T22:30:00.000000+00:00'\n",
    "\n",
    "display_variables = 'ts, value_string'\n",
    "join_statement = 'INNER JOIN topics_table on (data_table.topic_id = topics_table.topic_id) '\n",
    "sqlite_cmd = '''\"SELECT {0} FROM data_table {1} WHERE topics_table.topic_name = '{2}' AND data_table.ts > '{3}' AND data_table.ts < '{4}';\"'''.format(\n",
    "    display_variables,\n",
    "    join_statement,\n",
    "    topic_name,\n",
    "    start_time,\n",
    "    stop_time)\n",
    "print('sqlite command: \\n{0}\\n'.format(sqlite_cmd))\n",
    "\n",
    "run_sqlite_cmd(sqlite_cmd)"
   ]
  },
  {
   "cell_type": "markdown",
   "metadata": {},
   "source": [
    "# Data Reporting: Graph Values for a Single Topic"
   ]
  },
  {
   "cell_type": "markdown",
   "metadata": {},
   "source": [
    "Use numpy and matplotlib to produce a graph of the values for a topic."
   ]
  },
  {
   "cell_type": "code",
   "execution_count": null,
   "metadata": {
    "collapsed": true
   },
   "outputs": [],
   "source": [
    "topic_name = 'simstorage/power_kw'\n",
    "# topic_name = 'my_chargepoint/portLoad'\n",
    "start_time = '2017-09-06T22:00:00.000000+00:00'\n",
    "stop_time = '2017-09-06T22:30:00.000000+00:00'\n",
    "\n",
    "display_variables = 'ts, value_string'\n",
    "join_statement = 'INNER JOIN topics_table on (data_table.topic_id = topics_table.topic_id) '\n",
    "sqlite_cmd = '''SELECT {0} FROM data_table {1} WHERE topics_table.topic_name = '{2}' AND data_table.ts > '{3}' AND data_table.ts < '{4}';'''.format(\n",
    "    display_variables,\n",
    "    join_statement,\n",
    "    topic_name,\n",
    "    start_time,\n",
    "    stop_time)\n",
    "print('sqlite command: \\n{0}\\n'.format(sqlite_cmd))\n",
    "\n",
    "import numpy\n",
    "import matplotlib.pyplot as plt\n",
    "from matplotlib import dates\n",
    "\n",
    "# Connect to the SQLite database\n",
    "conn = sqlite3.connect(data_dir + '/historian.sqlite')\n",
    "c = conn.cursor()\n",
    "\n",
    "# Populate graphArray with the result of querying the database for the specified topic.\n",
    "graphArray = []\n",
    "for row in c.execute(sqlite_cmd):\n",
    "    # Remove parentheses and single quotes\n",
    "    row_string_filtered = str(row).translate(None, \"()'u\\'\")\n",
    "    # In Python 3, the Unicode string would need to be filtered like this:\n",
    "    # row_string_filtered = str(row).translate({ord(c): None for c in \"()'u\\'\"})\n",
    "    graphArray.append(row_string_filtered)\n",
    "\n",
    "if graphArray:\n",
    "    timestamps, values = numpy.loadtxt(graphArray,\n",
    "                                       delimiter=',',\n",
    "                                       unpack=True,\n",
    "                                       converters={0: dates.strpdate2num('%Y-%m-%dT%H:%M:%S.%f+00:00')})\n",
    "    fig = plt.figure()\n",
    "    fig.add_subplot(1, 1, 1, facecolor='white')\n",
    "    plt.plot_date(x=timestamps, y=values, fmt='b-')\n",
    "    plt.gcf().autofmt_xdate()\n",
    "    plt.show()\n",
    "else:\n",
    "    print('No data returned from query')"
   ]
  },
  {
   "cell_type": "markdown",
   "metadata": {},
   "source": [
    "# Data Monitoring: Prepare to Use the Message Viewer"
   ]
  },
  {
   "cell_type": "markdown",
   "metadata": {},
   "source": [
    "The VOLTTRON Message Debugger examines each message that comes across the message bus, storing them in a database.\n",
    "\n",
    "It exposes RPC calls that can filter for interesting messages.\n",
    "\n",
    "For more information, see the Message Debugger's \n",
    "[User Guide](http://volttron.readthedocs.io/en/develop/devguides/agent_development/Message-Debugging.html).\n",
    "\n",
    "The Message Viewer uses RPC calls to request Message Debugger data.\n",
    "\n",
    "There is a bug in Jupyter notebook logger setup, as documented in\n",
    "https://github.com/jupyter/notebook/issues/1397. The following Python code\n",
    "reloads the logger and calls basicConfig so that the Message Viewer's setupLogging call won't fail."
   ]
  },
  {
   "cell_type": "code",
   "execution_count": null,
   "metadata": {
    "collapsed": true
   },
   "outputs": [],
   "source": [
    "import logging\n",
    "reload(logging)\n",
    "logging.basicConfig(format='%(asctime)s %(levelname)s:%(message)s', level=logging.DEBUG, datefmt='%I:%M:%S')\n",
    "\n",
    "# The Message Viewer must be run from its directory.\n",
    "os.chdir(vroot + '/services/core/MessageDebuggerAgent/messageviewer')\n",
    "from viewer import MessageViewer\n",
    "\n",
    "print(\"MessageViewer loaded\")"
   ]
  },
  {
   "cell_type": "markdown",
   "metadata": {},
   "source": [
    "# Data Monitoring: Clear the Message Debugger Database"
   ]
  },
  {
   "cell_type": "markdown",
   "metadata": {},
   "source": [
    "A Message Debugger session is a time-bounded set of messages.\n",
    "\n",
    "Issue an RPC call to start a new session (which also stops the previous session, if any)."
   ]
  },
  {
   "cell_type": "code",
   "execution_count": null,
   "metadata": {
    "collapsed": true
   },
   "outputs": [],
   "source": [
    "MessageViewer.delete_debugging_db()"
   ]
  },
  {
   "cell_type": "markdown",
   "metadata": {},
   "source": [
    "# Data Monitoring: Start a Session"
   ]
  },
  {
   "cell_type": "markdown",
   "metadata": {},
   "source": [
    "Start a new debugging session. It will be assigned a fresh session ID."
   ]
  },
  {
   "cell_type": "code",
   "execution_count": null,
   "metadata": {
    "collapsed": true
   },
   "outputs": [],
   "source": [
    "MessageViewer.enable_message_debugging()"
   ]
  },
  {
   "cell_type": "markdown",
   "metadata": {},
   "source": [
    "# Data Monitoring: List Message Debugger Sessions"
   ]
  },
  {
   "cell_type": "markdown",
   "metadata": {},
   "source": [
    "Issue an RPC call to get a list of Message Debugger sessions, and display the result."
   ]
  },
  {
   "cell_type": "code",
   "execution_count": null,
   "metadata": {
    "collapsed": true
   },
   "outputs": [],
   "source": [
    "# Create a PrettyPrinter instance that formats output from the Message Viewer.\n",
    "pp = pprint.PrettyPrinter()\n",
    "\n",
    "# Display a list of Message Debugger DebugSessions.\n",
    "cmd_result = MessageViewer.display_db_objects('DebugSession')\n",
    "if type(cmd_result) is str:\n",
    "    # We seem to have gotten back an error message -- print it.\n",
    "    pp.pprint(cmd_result)\n",
    "else:\n",
    "    printable_session = {sess['rowid']: sess for sess in cmd_result['results']}\n",
    "    pp.pprint(printable_session)"
   ]
  },
  {
   "cell_type": "markdown",
   "metadata": {},
   "source": [
    "# Data Monitoring: List Message Counts in a Debug Session by Agent"
   ]
  },
  {
   "cell_type": "markdown",
   "metadata": {},
   "source": [
    "A given session (such as session 1) often has too many messages to display them unfiltered.\n",
    "\n",
    "Get a list of message counts by sending/receiving agent, in preparation for filtering the stream by sender."
   ]
  },
  {
   "cell_type": "code",
   "execution_count": null,
   "metadata": {
    "collapsed": true
   },
   "outputs": [],
   "source": [
    "session_id = '1'\n",
    "\n",
    "# Display the count of messages, by agent, for the debug session.\n",
    "cmd_result = MessageViewer.session_details_by_agent(session_id)\n",
    "pp.pprint(cmd_result)"
   ]
  },
  {
   "cell_type": "markdown",
   "metadata": {},
   "source": [
    "# Data Monitoring: List Message Counts in a Debug Session by Topic"
   ]
  },
  {
   "cell_type": "markdown",
   "metadata": {},
   "source": [
    "Another way to filter the message stream is by topic. Get a list of message counts by topic."
   ]
  },
  {
   "cell_type": "code",
   "execution_count": null,
   "metadata": {
    "collapsed": true
   },
   "outputs": [],
   "source": [
    "session_id = '1'\n",
    "\n",
    "# Display the count of messages, by topic, for the debug session.\n",
    "cmd_result = MessageViewer.session_details_by_topic(session_id)\n",
    "pp.pprint(cmd_result)"
   ]
  },
  {
   "cell_type": "markdown",
   "metadata": {},
   "source": [
    "# Data Monitoring: List Messages in a Session for a Sender and Topic"
   ]
  },
  {
   "cell_type": "markdown",
   "metadata": {},
   "source": [
    "Issue an RPC request to get a list of messages in a specific DebugSession with a specific sending agent and topic."
   ]
  },
  {
   "cell_type": "code",
   "execution_count": null,
   "metadata": {
    "collapsed": true
   },
   "outputs": [],
   "source": [
    "session_id = '1'\n",
    "agent_name = 'datapuller'\n",
    "topic_name = 'devices/power_kw/simpv'\n",
    "\n",
    "# Display each message in the chosen DebugSession for the specified topic.\n",
    "cmd_result = MessageViewer.display_db_objects('DebugMessage', filters={'session_id': session_id,\n",
    "                                                                       'sender': agent_name,\n",
    "                                                                       'topic': topic_name})\n",
    "if type(cmd_result) is str:\n",
    "    # We may have received an error message -- print it.\n",
    "    pp.pprint(cmd_result)\n",
    "else:\n",
    "    pp.pprint(cmd_result['results'])"
   ]
  },
  {
   "cell_type": "markdown",
   "metadata": {},
   "source": [
    "# Data Monitoring: Filter Messages by Time"
   ]
  },
  {
   "cell_type": "markdown",
   "metadata": {},
   "source": [
    "Hmm, that might still have been a flood of information. \n",
    "Reduce the data quantity by showing only messages that were\n",
    "routed after a given time."
   ]
  },
  {
   "cell_type": "code",
   "execution_count": null,
   "metadata": {
    "collapsed": true
   },
   "outputs": [],
   "source": [
    "session_id = '1'\n",
    "agent_name = 'datapuller'\n",
    "topic_name = 'devices/power_kw/simpv'\n",
    "\n",
    "# Substitute an appropriate timestamp here. You may need to add time to the wallclock \n",
    "# (e.g. perhaps 7 or 8 hours), putting it in UTC.\n",
    "start_time_cutoff = '2017-08-03 22:24:00'\n",
    "\n",
    "# Display each message in the chosen DebugSession that was routed after the indicated start time.\n",
    "cmd_result = MessageViewer.display_db_objects('DebugMessage', filters={'session_id': session_id,\n",
    "                                                                       'sender': agent_name,\n",
    "                                                                       'topic': topic_name,\n",
    "                                                                       'starttime': start_time_cutoff})\n",
    "if type(cmd_result) is str:\n",
    "    # We may have received an error message -- print it.\n",
    "    pp.pprint(cmd_result)\n",
    "else:\n",
    "    pp.pprint(cmd_result['results'])"
   ]
  },
  {
   "cell_type": "markdown",
   "metadata": {},
   "source": [
    "# Shutdown: Stop all agents"
   ]
  },
  {
   "cell_type": "markdown",
   "metadata": {},
   "source": [
    "When finished, stop all VOLTTRON agents."
   ]
  },
  {
   "cell_type": "code",
   "execution_count": null,
   "metadata": {
    "collapsed": true
   },
   "outputs": [],
   "source": [
    "# Stop all agents.\n",
    "_sh('volttron-ctl shutdown')\n",
    "\n",
    "# Verify that all agents have been stopped.\n",
    "_print_sh('volttron-ctl status', stderr=subprocess.STDOUT)"
   ]
  },
  {
   "cell_type": "markdown",
   "metadata": {},
   "source": [
    "# Shutdown: Check Disk Space"
   ]
  },
  {
   "cell_type": "code",
   "execution_count": null,
   "metadata": {
    "collapsed": true
   },
   "outputs": [],
   "source": [
    "# Report disk consumption on the server to determine whether files need to be deleted.\n",
    "_sh(\"df | egrep '/dev/'\")"
   ]
  },
  {
   "cell_type": "markdown",
   "metadata": {},
   "source": [
    "# Shutdown: Delete the Historian Database"
   ]
  },
  {
   "cell_type": "code",
   "execution_count": null,
   "metadata": {
    "collapsed": true
   },
   "outputs": [],
   "source": [
    "# Delete the Historian's SQLite database to conserve disk and get a fresh start.\n",
    "if os.path.exists(data_dir + '/historian.sqlite'):\n",
    "    _sh('rm {0}'.format(data_dir + '/historian.sqlite'))"
   ]
  },
  {
   "cell_type": "markdown",
   "metadata": {},
   "source": [
    "# Shutdown: Delete the VOLTTRON Log File"
   ]
  },
  {
   "cell_type": "code",
   "execution_count": null,
   "metadata": {
    "collapsed": true
   },
   "outputs": [],
   "source": [
    "# If needed to conserve disk space, delete the VOLTTRON log file.\n",
    "if os.path.exists(root_dir + '/log1'):\n",
    "    _sh('rm {0}'.format(root_dir + '/log1'))"
   ]
  }
 ],
 "metadata": {
  "kernelspec": {
   "display_name": "Python 2",
   "language": "python",
   "name": "python2"
  },
  "language_info": {
   "codemirror_mode": {
    "name": "ipython",
    "version": 2
   },
   "file_extension": ".py",
   "mimetype": "text/x-python",
   "name": "python",
   "nbconvert_exporter": "python",
   "pygments_lexer": "ipython2",
   "version": "2.7.12"
  }
 },
 "nbformat": 4,
 "nbformat_minor": 2
}
