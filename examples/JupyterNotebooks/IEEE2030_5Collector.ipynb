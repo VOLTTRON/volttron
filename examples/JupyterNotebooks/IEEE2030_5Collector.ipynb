{
 "cells": [
  {
   "cell_type": "markdown",
   "metadata": {},
   "source": [
    "# VOLTTRON IEEE 2030.5 (SEP2) Collector Notebook"
   ]
  },
  {
   "cell_type": "markdown",
   "metadata": {},
   "source": [
    "This notebook sets up a IEEE 2030.5 (SEP2.0) device driver and forwards device data\n",
    "from one VOLLTRON instance (this Collector) to another instance (the Aggregator).\n",
    "\n",
    "The Smart Energy Profile 2.0 (\"SEP2\") protocol implements IEEE 2030.5, \n",
    "and is capable of connecting a wide array of smart energy devices to the Smart Grid. \n",
    "The standard is designed to run over TCP/IP and is physical layer agnostic.\n",
    "\n",
    "Most of the notebook's setup and execution is done with shell commands, called from Python."
   ]
  },
  {
   "cell_type": "markdown",
   "metadata": {},
   "source": [
    "# Setup: Prepare the Volttron Environment"
   ]
  },
  {
   "cell_type": "markdown",
   "metadata": {},
   "source": [
    "VOLTTRON must be installed before using this notebook. For detailed instructions on\n",
    "installing and configuring a VOLTTRON/Jupyter server environment, see [Jupyter Notebooks](http://volttron.readthedocs.io/en/devguides/supporting/utilities/JupyterNotebooks.html) \n",
    "in VOLTTRON ReadTheDocs.\n",
    "\n",
    "As is described in that guide, environment variables should have been defined before starting \n",
    "the Jupyter server:\n",
    "\n",
    "````\n",
    "$ export VOLTTRON_ROOT=~/repos/volttron\n",
    "````\n",
    "        (path of the VOLTTRON repository, installed prior to running bootstrap)\n",
    "\n",
    "````\n",
    "$ export VOLTTRON_HOME=~/.volttron\n",
    "````\n",
    "        (directory in which the VOLTTRON instance runs)\n",
    "\n",
    "The first VOLTTRON instance on a server usually runs, by convention, in ~/.volttron.\n",
    "If multiple VOLTTRON instances are to be run on a single host, each must have its own VOLTTRON_HOME.\n",
    "\n",
    "Also before starting the Jupyter server, a VOLTTRON virtual environment should have been \n",
    "activated by executing the following in $VOLTTRON_ROOT:\n",
    "\n",
    "````\n",
    "$ source env/bin/activate\n",
    "````\n",
    "\n",
    "The Python code below does some initialization to prepare for the steps that follow."
   ]
  },
  {
   "cell_type": "code",
   "execution_count": null,
   "metadata": {},
   "outputs": [],
   "source": [
    "import datetime\n",
    "import json\n",
    "import os\n",
    "import pprint\n",
    "import sqlite3\n",
    "import subprocess\n",
    "import sys\n",
    "import time\n",
    "\n",
    "# Define a \"run this shell command\" method, wrapping subprocess.check_output()\n",
    "def _sh(shell_command, shell=True, stderr=None):\n",
    "    try:\n",
    "        return_value = subprocess.check_output(shell_command, shell=shell, stderr=stderr)\n",
    "    except Exception as err:\n",
    "        print('Shell command failed: {}', shell_command)\n",
    "        print(err)\n",
    "        return_value = 'Error'\n",
    "    return return_value\n",
    "\n",
    "# Same as _sh(), except that this also prints the command output, preceded by an optional label.\n",
    "def _print_sh(shell_command, label=None, **kwargs):\n",
    "    print('{0}: {1}\\n'.format(label+':' if label else '', _sh(shell_command, **kwargs)))\n",
    "\n",
    "# Set up local variables vhome and vroot.\n",
    "# The environment variables VOLTTRON_ROOT and VOLTTRON_HOME should already be defined -- see above.\n",
    "vroot = %env VOLTTRON_ROOT\n",
    "vhome = %env VOLTTRON_HOME\n",
    "print(\"VOLTTRON_ROOT={}\".format(vroot))\n",
    "print(\"VOLTTRON_HOME={}\".format(vhome))\n",
    "\n",
    "# Define a VIP_SOCKET environment variable for use while installing and running agents.\n",
    "socket_name = 'ipc://' + vhome + '/run/vip.socket'\n",
    "%env VIP_SOCKET=$socket_name\n",
    "\n",
    "# Run from the VOLTTRON root directory.\n",
    "os.chdir(vroot)\n",
    "\n",
    "print(\"Initialization complete\")"
   ]
  },
  {
   "cell_type": "markdown",
   "metadata": {},
   "source": [
    "# Setup: Shut Down All Agents"
   ]
  },
  {
   "cell_type": "markdown",
   "metadata": {},
   "source": [
    "This ensures a clean agent installation process by the notebook."
   ]
  },
  {
   "cell_type": "code",
   "execution_count": null,
   "metadata": {},
   "outputs": [],
   "source": [
    "print('Wait for the list to be displayed, and confirm that no agents are listed as running...\\n')\n",
    "\n",
    "# Shut down all agents.\n",
    "_sh('volttron-ctl shutdown')\n",
    "\n",
    "# List agent status to verify that the status of each agent is 0 or blank.\n",
    "_print_sh('volttron-ctl status', stderr=subprocess.STDOUT)"
   ]
  },
  {
   "cell_type": "markdown",
   "metadata": {},
   "source": [
    "# Setup: Discover the Collector's Network Parameters"
   ]
  },
  {
   "cell_type": "markdown",
   "metadata": {},
   "source": [
    "In order for this Collector to forward data to an Aggregator, the Aggregator\n",
    "must know the Collector's network parameters, storing them in its known_hosts file.\n",
    "Discover those parameters now.\n",
    "\n",
    "Copy the vip-address's IP and port, and the serverkey,\n",
    "to the Aggregator notebook under \n",
    "'Setup: Add Each Collector to the known_hosts File',\n",
    "and execute that notebook's code to add this Collector to known_hosts."
   ]
  },
  {
   "cell_type": "code",
   "execution_count": null,
   "metadata": {},
   "outputs": [],
   "source": [
    "# Obtain this server's IP address, volttron port number (usually 22916), and server key:\n",
    "print('Obtaining network parameters and server key; please wait...\\n')\n",
    "_print_sh('curl ifconfig.me', label='Public IP address')\n",
    "_print_sh('volttron-ctl auth serverkey', label='Serverkey')\n",
    "_print_sh('cat {}/config'.format(vhome), label='Config file')"
   ]
  },
  {
   "cell_type": "markdown",
   "metadata": {},
   "source": [
    "# Setup: Configure the Aggregator's Network Parameters"
   ]
  },
  {
   "cell_type": "markdown",
   "metadata": {},
   "source": [
    "This Collector forwards data to an Aggregator, so it must be\n",
    "configured with the Aggregator's IP address, port number and server key.\n",
    "\n",
    "Define those parameters here. \n",
    "\n",
    "Obtain them from the Aggregator notebook,\n",
    "'Setup: Discover the Aggregator's Network Parameters'."
   ]
  },
  {
   "cell_type": "code",
   "execution_count": null,
   "metadata": {},
   "outputs": [],
   "source": [
    "aggregator_vip_address = '54.67.31.234'\n",
    "aggregator_vip_port = '22916'\n",
    "aggregator_server_key = 'A_WyNaTRQu3jkMeX6NgmchCCnPsYhZUjnt2zdAyf0HU'\n",
    "\n",
    "aggregator_vip = \"tcp://{0}:{1}\".format(aggregator_vip_address, aggregator_vip_port)\n",
    "\n",
    "print('vip = {0}'.format(aggregator_vip))\n",
    "print('aggregator_server_key = {0}'.format(aggregator_server_key))"
   ]
  },
  {
   "cell_type": "markdown",
   "metadata": {},
   "source": [
    "# Setup: Test the TCP Connection"
   ]
  },
  {
   "cell_type": "markdown",
   "metadata": {},
   "source": [
    "The ForwardHistorian will send requests to the VOLTTRON Aggregator instance\n",
    "via TCP commands. Test that the Aggregator instance is capable of receiving\n",
    "TCP requests on the designated IP address and port.\n",
    "\n",
    "If this test fails, the port may not be open on the other server (firewall issue?),\n",
    "the request may be for the wrong IP address and/or port ID,\n",
    "or the other server's VOLTTRON instance may be down or incorrectly configured."
   ]
  },
  {
   "cell_type": "code",
   "execution_count": null,
   "metadata": {},
   "outputs": [],
   "source": [
    "# Use an 'nc' (netcat) command to test the TCP connection\n",
    "shell_command = 'nc -z -vv -w5 {0} {1}'.format(aggregator_vip_address, aggregator_vip_port)\n",
    "_print_sh(shell_command, label='Network connection test result', stderr=subprocess.STDOUT)"
   ]
  },
  {
   "cell_type": "markdown",
   "metadata": {},
   "source": [
    "# Setup: Configure a ForwardHistorian"
   ]
  },
  {
   "cell_type": "markdown",
   "metadata": {},
   "source": [
    "Create a configuration file for this collector's ForwardHistorian.\n",
    "\n",
    "The file specifies the Aggregator's IP address, port and server key,\n",
    "and indicates which topics should be forwarded."
   ]
  },
  {
   "cell_type": "code",
   "execution_count": null,
   "metadata": {},
   "outputs": [],
   "source": [
    "config = \"\"\"{{\n",
    "    \"destination-vip\": \"{0}\",\n",
    "    \"destination-serverkey\": \"{1}\",\n",
    "    \"required_target_agents\": [],\n",
    "    \"custom_topic_list\": [],\n",
    "    \"services_topic_list\": [\"devices\"],\n",
    "    \"topic_replace_list\": [\n",
    "        {{\n",
    "            \"from\": \"FromString\", \n",
    "            \"to\": \"ToString\"\n",
    "        }}\n",
    "    ]\n",
    "}}\"\"\".format(aggregator_vip, aggregator_server_key)\n",
    "print(\"config = {}\".format(config))\n",
    "config_path = vhome + '/my_ieee2030_5_forwarder.config'\n",
    "with open(config_path, 'w') as file:\n",
    "    file.write(config)\n",
    "print('Forwarder configuration written to {}'.format(config_path))"
   ]
  },
  {
   "cell_type": "markdown",
   "metadata": {},
   "source": [
    "# Configure a IEEE 2030.5 Device Driver"
   ]
  },
  {
   "cell_type": "markdown",
   "metadata": {},
   "source": [
    "Create and install a configuration for the IEEE 2030.5 device."
   ]
  },
  {
   "cell_type": "code",
   "execution_count": null,
   "metadata": {},
   "outputs": [],
   "source": [
    "def install_driver_csv(name=None, csv=None):\n",
    "    _sh('volttron-ctl config store platform.driver {0} {1} --csv'.format(name, csv))\n",
    "\n",
    "def install_driver_config(name=None, config=None):\n",
    "    _sh('volttron-ctl config store platform.driver {0} {1}'.format(name, config))\n",
    "    \n",
    "# Create a CSV points file for the device\n",
    "points = '''\n",
    "'''\n",
    "print('points file contents = {}'.format(points))\n",
    "\n",
    "csv_path = vhome + '/my_ieee2030_5.csv'\n",
    "with open(csv_path, 'w') as file:\n",
    "    file.write(points)\n",
    "print('IEEE 2030.5 points file written to {}\\n'.format(csv_path))\n",
    "\n",
    "# Create a config file for the device\n",
    "config = \"\"\"{\n",
    "}\"\"\"\n",
    "print(\"config = {}\".format(config))\n",
    "\n",
    "config_path = vhome + '/my_ieee2030_5.config'\n",
    "with open(config_path, 'w') as file:\n",
    "    file.write(config)\n",
    "print('IEEE 2030.5 configuration written to {}\\n'.format(config_path))\n",
    "\n",
    "# Store the configurations in the platform driver.\n",
    "print('\\nWait for the platform driver config to display, then confirm that this config appears in it...')\n",
    "install_driver_csv(name='my_ieee2030_5.csv', csv=csv_path)\n",
    "install_driver_config(name='devices/my_ieee2030_5', config=config_path)\n",
    "\n",
    "# List the driver configuration to confirm that the drivers were installed successfully.\n",
    "_print_sh('volttron-ctl config list platform.driver')"
   ]
  },
  {
   "cell_type": "markdown",
   "metadata": {},
   "source": [
    "\n",
    "# Setup: Install Agents"
   ]
  },
  {
   "cell_type": "markdown",
   "metadata": {},
   "source": [
    "Install each agent employed by the Collector: a platform driver, a IEEE 2030.5 Agent, a ForwardHistorian, and 2 Volttron Central agents."
   ]
  },
  {
   "cell_type": "code",
   "execution_count": null,
   "metadata": {},
   "outputs": [],
   "source": [
    "print('Wait for the list to be displayed, then confirm that all of these agents appear in it...')\n",
    "\n",
    "def install_agent(dir=None, id=None, config=None, tag=None):\n",
    "    script_install_command = 'python scripts/install-agent.py -s {0} -i {1} -c {2} -t {3} -f'\n",
    "    _sh(script_install_command.format(dir, id, config, tag))\n",
    "    print('Installed {}'.format(tag))\n",
    "\n",
    "# Install the PlatformDriver agent which runs the Bacnet driver\n",
    "install_agent(dir=vroot+'/services/core/PlatformDriverAgent/',\n",
    "              id='platform.driver',\n",
    "              config=vroot+'/services/core/PlatformDriverAgent/platform-driver.agent',\n",
    "              tag='platform.driver')\n",
    "\n",
    "# Install a ForwardHistorian agent that forwards metrics to another VOLTTRON instance\n",
    "install_agent(dir=vroot+'/services/core/ForwardHistorian',\n",
    "              id='forward_historian',\n",
    "              config=vhome+'/my_ieee2030_5_forwarder.config',\n",
    "              tag='forward_historian')\n",
    "\n",
    "# Install a IEEE 2030.5 agent.\n",
    "install_agent(dir=vroot + '/services/core/IEEE2030_5Agent',\n",
    "              id='ieee2030_5agent',\n",
    "              config=vroot + '/services/core/IEEE2030_5Agent/config',\n",
    "              tag='ieee2030_5agent')\n",
    "\n",
    "# Install a Platform Agent\n",
    "install_agent(dir=vroot+'/services/core/VolttronCentralPlatform',\n",
    "              id='platform.agent',\n",
    "              config=vroot+'/services/core/VolttronCentralPlatform/config', \n",
    "              tag='vcp')\n",
    "\n",
    "# Install a Volttron Central Agent\n",
    "install_agent(dir=vroot+'/services/core/VolttronCentral',\n",
    "              id='volttron.central',\n",
    "              config=vroot+'/services/core/VolttronCentral/config', \n",
    "              tag='vc')\n",
    "\n",
    "# List agent status to verify that the agents were installed successfully.\n",
    "_print_sh('volttron-ctl status', stderr=subprocess.STDOUT)"
   ]
  },
  {
   "cell_type": "markdown",
   "metadata": {},
   "source": [
    "# Setup: Get the Collector's forward_historian Credentials"
   ]
  },
  {
   "cell_type": "markdown",
   "metadata": {},
   "source": [
    "The Collector's ForwardHistorian agent needs to authenticate to the Aggregator. Authentication is facilitated by adding the agent's credentials to the Aggregator's auth.json file.\n",
    "\n",
    "Copy the PUBLICKEY from the command output below. On the Aggregator, run `volttron-ctl auth add` from the command line. When prompted for credentials, paste the key."
   ]
  },
  {
   "cell_type": "code",
   "execution_count": null,
   "metadata": {},
   "outputs": [],
   "source": [
    "_print_sh('volttron-ctl auth publickey --tag forward_historian')"
   ]
  },
  {
   "cell_type": "markdown",
   "metadata": {},
   "source": [
    "# Execution: Refresh Variables and Stop Agents"
   ]
  },
  {
   "cell_type": "markdown",
   "metadata": {},
   "source": [
    "Before starting up the agents, refresh all variables and make sure that all agents are stopped."
   ]
  },
  {
   "cell_type": "code",
   "execution_count": null,
   "metadata": {},
   "outputs": [],
   "source": [
    "print('Make a fresh start - refresh variable definitions, shut down any running agents, refresh the database')\n",
    "\n",
    "import datetime\n",
    "import json\n",
    "import os\n",
    "import pprint\n",
    "import sqlite3\n",
    "import subprocess\n",
    "import sys\n",
    "import time\n",
    "\n",
    "# Define a \"run this shell command\" method, wrapping subprocess.check_output()\n",
    "def _sh(shell_command, shell=True, stderr=None):\n",
    "    try:\n",
    "        return_value = subprocess.check_output(shell_command, shell=shell, stderr=stderr)\n",
    "    except Exception as err:\n",
    "        print('Shell command failed: {}', shell_command)\n",
    "        print(err)\n",
    "        return_value = 'Error'\n",
    "    return return_value\n",
    "\n",
    "# Same as _sh(), except that this also prints the command output, preceded by an optional label.\n",
    "def _print_sh(shell_command, label=None, **kwargs):\n",
    "    print('{0}: {1}\\n'.format(label+':' if label else '', _sh(shell_command, **kwargs)))\n",
    "\n",
    "# Set up local variables vhome and vroot.\n",
    "# The environment variables VOLTTRON_ROOT and VOLTTRON_HOME should already be defined -- see above.\n",
    "vroot = %env VOLTTRON_ROOT\n",
    "vhome = %env VOLTTRON_HOME\n",
    "print(\"VOLTTRON_ROOT={}\".format(vroot))\n",
    "print(\"VOLTTRON_HOME={}\".format(vhome))\n",
    "\n",
    "# Define a VIP_SOCKET environment variable for use while installing and running agents.\n",
    "socket_name = 'ipc://' + vhome + '/run/vip.socket'\n",
    "%env VIP_SOCKET=$socket_name\n",
    "\n",
    "# Run from the VOLTTRON root directory.\n",
    "os.chdir(vroot)\n",
    "\n",
    "# Shut down all agents.\n",
    "_sh('volttron-ctl shutdown')\n",
    "\n",
    "# List agent status to verify that the status of each agent is 0 or blank.\n",
    "_print_sh('volttron-ctl status', stderr=subprocess.STDOUT)"
   ]
  },
  {
   "cell_type": "markdown",
   "metadata": {},
   "source": [
    "# Execution: Start the agents"
   ]
  },
  {
   "cell_type": "code",
   "execution_count": null,
   "metadata": {},
   "outputs": [],
   "source": [
    "print('Wait for the list to be displayed, then confirm that each started agent is running...')\n",
    "\n",
    "_sh('volttron-ctl start --tag platform.driver')\n",
    "_sh('volttron-ctl start --tag ieee2030_5agent')\n",
    "_sh('volttron-ctl start --tag forward_historian')\n",
    "_sh('volttron-ctl start --tag vcp')\n",
    "_sh('volttron-ctl start --tag vc')\n",
    "\n",
    "# List agent status to verify that the started agents have status \"running\".\n",
    "_print_sh('volttron-ctl status', stderr=subprocess.STDOUT)"
   ]
  },
  {
   "cell_type": "markdown",
   "metadata": {},
   "source": [
    "# Shutdown: Stop all agents"
   ]
  },
  {
   "cell_type": "code",
   "execution_count": null,
   "metadata": {},
   "outputs": [],
   "source": [
    "# Stop all agents.\n",
    "_sh('volttron-ctl shutdown')\n",
    "\n",
    "# Verify that all agents have been stopped.\n",
    "_print_sh('volttron-ctl status', stderr=subprocess.STDOUT)"
   ]
  }
 ],
 "metadata": {
  "kernelspec": {
   "display_name": "Python 3",
   "language": "python",
   "name": "python3"
  },
  "language_info": {
   "codemirror_mode": {
    "name": "ipython",
    "version": 3
   },
   "file_extension": ".py",
   "mimetype": "text/x-python",
   "name": "python",
   "nbconvert_exporter": "python",
   "pygments_lexer": "ipython3",
   "version": "3.6.9"
  }
 },
 "nbformat": 4,
 "nbformat_minor": 2
}
