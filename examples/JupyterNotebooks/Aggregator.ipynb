{
 "cells": [
  {
   "cell_type": "markdown",
   "metadata": {},
   "source": [
    "# VOLTTRON Aggregator Notebook"
   ]
  },
  {
   "cell_type": "markdown",
   "metadata": {},
   "source": [
    "This notebook sets up and executes aggregation of forwarded data\n",
    "from other VOLTTRON instances, using a historian to record the data.\n",
    "\n",
    "Most of the notebook's setup and execution is done with shell commands, called from Python."
   ]
  },
  {
   "cell_type": "markdown",
   "metadata": {},
   "source": [
    "# Setup: Prepare the Volttron Environment"
   ]
  },
  {
   "cell_type": "markdown",
   "metadata": {},
   "source": [
    "VOLTTRON must be installed before using this notebook. For detailed instructions on\n",
    "installing and configuring a VOLTTRON/Jupyter server environment, see [Jupyter Notebooks](http://volttron.readthedocs.io/en/devguides/supporting/utilities/JupyterNotebooks.html) \n",
    "in VOLTTRON ReadTheDocs.\n",
    "\n",
    "As is described in that guide, environment variables should have been defined before starting \n",
    "the Jupyter server:\n",
    "\n",
    "````\n",
    "$ export VOLTTRON_ROOT=~/repos/volttron\n",
    "````\n",
    "        (path of the VOLTTRON repository, installed prior to running bootstrap)\n",
    "\n",
    "````\n",
    "$ export VOLTTRON_HOME=~/.volttron\n",
    "````\n",
    "        (directory in which the VOLTTRON instance runs)\n",
    "\n",
    "The first VOLTTRON instance on a server usually runs, by convention, in ~/.volttron.\n",
    "If multiple VOLTTRON instances are to be run on a single host, each must have its own VOLTTRON_HOME.\n",
    "\n",
    "Also before starting the Jupyter server, a VOLTTRON virtual environment should have been \n",
    "activated by executing the following in $VOLTTRON_ROOT:\n",
    "\n",
    "````\n",
    "$ source env/bin/activate\n",
    "````\n",
    "\n",
    "The Python code below does some initialization to prepare for the steps that follow."
   ]
  },
  {
   "cell_type": "code",
   "execution_count": null,
   "metadata": {
    "collapsed": true
   },
   "outputs": [],
   "source": [
    "import datetime\n",
    "import json\n",
    "import os\n",
    "import pprint\n",
    "import sqlite3\n",
    "import subprocess\n",
    "import sys\n",
    "import time\n",
    "\n",
    "# Define a \"run this shell command\" method, wrapping subprocess.check_output()\n",
    "def _sh(shell_command, shell=True, stderr=None):\n",
    "    try:\n",
    "        return_value = subprocess.check_output(shell_command, shell=shell, stderr=stderr)\n",
    "    except Exception, err:\n",
    "        print('Shell command failed: {}', shell_command)\n",
    "        print(err)\n",
    "        return_value = 'Error'\n",
    "    return return_value\n",
    "\n",
    "# Same as _sh(), except that this also prints the command output, preceded by an optional label.\n",
    "def _print_sh(shell_command, label=None, **kwargs):\n",
    "    print('{0}: {1}\\n'.format(label+':' if label else '', _sh(shell_command, **kwargs)))\n",
    "\n",
    "# Set up local variables vhome and vroot.\n",
    "# The environment variables VOLTTRON_ROOT and VOLTTRON_HOME should already be defined -- see above.\n",
    "vroot = %env VOLTTRON_ROOT\n",
    "vhome = %env VOLTTRON_HOME\n",
    "print(\"VOLTTRON_ROOT={}\".format(vroot))\n",
    "print(\"VOLTTRON_HOME={}\".format(vhome))\n",
    "\n",
    "# Define a VIP_SOCKET environment variable for use while installing and running agents.\n",
    "socket_name = 'ipc://' + vhome + '/run/vip.socket'\n",
    "%env VIP_SOCKET=$socket_name\n",
    "\n",
    "# Run from the VOLTTRON root directory.\n",
    "os.chdir(vroot)\n",
    "\n",
    "data_dir = vhome + '/data'\n",
    "\n",
    "print(\"Initialization complete\")"
   ]
  },
  {
   "cell_type": "markdown",
   "metadata": {},
   "source": [
    "# Setup: Shut Down All Agents"
   ]
  },
  {
   "cell_type": "markdown",
   "metadata": {},
   "source": [
    "This ensures a clean agent installation process by the notebook."
   ]
  },
  {
   "cell_type": "code",
   "execution_count": null,
   "metadata": {
    "collapsed": true
   },
   "outputs": [],
   "source": [
    "print('Wait for the list to be displayed, and confirm that no agents are listed as running...\\n')\n",
    "\n",
    "# Shut down all agents.\n",
    "_sh('volttron-ctl shutdown')\n",
    "\n",
    "# List agent status to verify that the status of each agent is 0 or blank.\n",
    "_print_sh('volttron-ctl status', stderr=subprocess.STDOUT)"
   ]
  },
  {
   "cell_type": "markdown",
   "metadata": {},
   "source": [
    "# Setup: Discover the Aggregator's Network Parameters"
   ]
  },
  {
   "cell_type": "markdown",
   "metadata": {},
   "source": [
    "Each Collector and Observer must know this Aggregator's network parameters\n",
    "so that it can forward data to it or pull data from it.\n",
    "Discover those parameters now.\n",
    "\n",
    "Copy the vip-address's IP and port, and the serverkey,\n",
    "to the Collector or Observer notebook under\n",
    "'Setup: Configure the Aggregator's Network Parameters'.\n",
    "\n",
    "Also, make sure that this port is open for TCP access on the Aggregator's host."
   ]
  },
  {
   "cell_type": "code",
   "execution_count": null,
   "metadata": {
    "collapsed": true
   },
   "outputs": [],
   "source": [
    "# Obtain this server's IP address, volttron port number (usually 22916), and server key:\n",
    "print('Obtaining network parameters and server key; please wait...\\n')\n",
    "_print_sh('curl ifconfig.me', label='Public IP address')\n",
    "_print_sh('volttron-ctl auth serverkey', label='Serverkey')\n",
    "_print_sh('cat {}/config'.format(vhome), label='Config file')"
   ]
  },
  {
   "cell_type": "markdown",
   "metadata": {},
   "source": [
    "# Setup: Add Each Collector and Observer to known_hosts"
   ]
  },
  {
   "cell_type": "markdown",
   "metadata": {},
   "source": [
    "Do the following for each Collector and Observer, substituting that server's\n",
    "IP address, port number and server key below.\n",
    "\n",
    "Get each Collector's data from 'Setup: Update the Aggregator's known_hosts File' \n",
    "in the Collector notebook.\n",
    "\n",
    "Get each Observer's data from 'Setup: Update the Aggregator's known_hosts File' \n",
    "in the Observer notebook."
   ]
  },
  {
   "cell_type": "code",
   "execution_count": null,
   "metadata": {
    "collapsed": true
   },
   "outputs": [],
   "source": [
    "# For each remote VOLTTRON instance (Collector or Observer),\n",
    "# change the following three strings and then execute this code\n",
    "# to add the instance's properties to the Aggregator's known_hosts file:\n",
    "remote_ip_address = 'foo'\n",
    "remote_port_number = '22916'\n",
    "remote_server_key = 'bar'\n",
    "\n",
    "_sh('volttron-ctl auth add-known-host --host {0}:{1} --serverkey {2}'.format(remote_ip_address, \n",
    "                                                                             remote_port_number, \n",
    "                                                                             remote_server_key))\n",
    "with open(vhome + '/known_hosts', 'r') as kh_file:\n",
    "    print 'known_hosts file contents are now: \\n{0}'.format(kh_file.read())"
   ]
  },
  {
   "cell_type": "markdown",
   "metadata": {},
   "source": [
    "# Setup: Configure a SQLHistorian"
   ]
  },
  {
   "cell_type": "code",
   "execution_count": null,
   "metadata": {
    "collapsed": true
   },
   "outputs": [],
   "source": [
    "# Create a SQLHistorian configuration specifically for this project\n",
    "\n",
    "# The historian's database will reside in $VOLTTRON_HOME/data. \n",
    "# Make sure that the directory exists.\n",
    "if not os.path.exists(data_dir):\n",
    "    _sh('mkdir {0}'.format(data_dir))\n",
    "\n",
    "config = '''{{\n",
    "    \"agentid\": \"sqlhistorian-sqlite\",\n",
    "    \"connection\": {{\n",
    "        \"type\": \"sqlite\",\n",
    "        \"params\": {{\n",
    "            \"database\": \"{0}/historian.sqlite\"\n",
    "        }}\n",
    "    }},\n",
    "    \"tables_def\": {{\n",
    "        \"table_prefix\": \"\",\n",
    "        \"data_table\": \"data_table\",\n",
    "        \"topics_table\": \"topics_table\",\n",
    "        \"meta_table\": \"meta_table\"\n",
    "    }}\n",
    "}}'''.format(data_dir)\n",
    "print(\"config = {}\".format(config))\n",
    "config_path = vhome + '/my_aggregator_historian.config'\n",
    "with open(config_path, 'w') as file:\n",
    "    file.write(config)\n",
    "print('Historian configuration written to {}'.format(config_path))"
   ]
  },
  {
   "cell_type": "markdown",
   "metadata": {},
   "source": [
    "# Setup: Install Agents"
   ]
  },
  {
   "cell_type": "markdown",
   "metadata": {},
   "source": [
    "Install each agent employed by the Aggregator: a SQLHistorian and 2 Volttron Central agents."
   ]
  },
  {
   "cell_type": "code",
   "execution_count": null,
   "metadata": {
    "collapsed": true
   },
   "outputs": [],
   "source": [
    "print('Wait for the list to be displayed, then confirm that all of these agents appear in it...')\n",
    "\n",
    "def install_agent(dir=None, id=None, config=None, tag=None):\n",
    "    script_install_command = 'python scripts/install-agent.py -s {0} -i {1} -c {2} -t {3} -f'\n",
    "    _sh(script_install_command.format(dir, id, config, tag))\n",
    "    print('Installed {}'.format(tag))\n",
    "\n",
    "# Install a SQL Historian agent that captures metrics in a SQLite database\n",
    "install_agent(dir=vroot+'/services/core/SQLHistorian',\n",
    "              id='sqlite_historian',\n",
    "              config=vhome + '/my_aggregator_historian.config',\n",
    "              tag='sqlite_historian')\n",
    "\n",
    "# Install a Platform Agent\n",
    "install_agent(dir=vroot+'/services/core/VolttronCentralPlatform',\n",
    "              id='platform.agent',\n",
    "              config=vroot+'/services/core/VolttronCentralPlatform/config', \n",
    "              tag='vcp')\n",
    "\n",
    "# Install a Volttron Central Agent\n",
    "install_agent(dir=vroot+'/services/core/VolttronCentral',\n",
    "              id='volttron.central',\n",
    "              config=vroot+'/services/core/VolttronCentral/config', \n",
    "              tag='vc')\n",
    "\n",
    "# List agent status to verify that the agents were installed successfully.\n",
    "_print_sh('volttron-ctl status', stderr=subprocess.STDOUT)"
   ]
  },
  {
   "cell_type": "markdown",
   "metadata": {},
   "source": [
    "# Execution: Refresh variables, stop agents, delete database"
   ]
  },
  {
   "cell_type": "code",
   "execution_count": null,
   "metadata": {
    "collapsed": true
   },
   "outputs": [],
   "source": [
    "print('Make a fresh start - refresh variable definitions, shut down any running agents, refresh the database')\n",
    "\n",
    "import datetime\n",
    "import json\n",
    "import os\n",
    "import pprint\n",
    "import sqlite3\n",
    "import subprocess\n",
    "import sys\n",
    "import time\n",
    "\n",
    "# Define a \"run this shell command\" method, wrapping subprocess.check_output()\n",
    "def _sh(shell_command, shell=True, stderr=None):\n",
    "    try:\n",
    "        return_value = subprocess.check_output(shell_command, shell=shell, stderr=stderr)\n",
    "    except Exception, err:\n",
    "        print('Shell command failed: {}', shell_command)\n",
    "        print(err)\n",
    "        return_value = 'Error'\n",
    "    return return_value\n",
    "\n",
    "# Same as _sh(), except that this also prints the command output, preceded by an optional label.\n",
    "def _print_sh(shell_command, label=None, **kwargs):\n",
    "    print('{0}: {1}\\n'.format(label+':' if label else '', _sh(shell_command, **kwargs)))\n",
    "\n",
    "# Set up local variables vhome and vroot.\n",
    "# The environment variables VOLTTRON_ROOT and VOLTTRON_HOME should already be defined -- see above.\n",
    "vroot = %env VOLTTRON_ROOT\n",
    "vhome = %env VOLTTRON_HOME\n",
    "print(\"VOLTTRON_ROOT={}\".format(vroot))\n",
    "print(\"VOLTTRON_HOME={}\".format(vhome))\n",
    "\n",
    "# Define a VIP_SOCKET environment variable for use while installing and running agents.\n",
    "socket_name = 'ipc://' + vhome + '/run/vip.socket'\n",
    "%env VIP_SOCKET=$socket_name\n",
    "\n",
    "# Run from the VOLTTRON root directory.\n",
    "os.chdir(vroot)\n",
    "\n",
    "data_dir = vhome + '/data'\n",
    "\n",
    "# Delete the Historian's SQLite database to get a fresh start.\n",
    "if os.path.exists(data_dir + '/historian.sqlite'):\n",
    "    _sh('rm {0}'.format(data_dir + '/historian.sqlite'))\n",
    "\n",
    "# Shut down all agents.\n",
    "_sh('volttron-ctl shutdown')\n",
    "\n",
    "# List agent status to verify that the status of each agent is 0 or blank.\n",
    "_print_sh('volttron-ctl status', stderr=subprocess.STDOUT)"
   ]
  },
  {
   "cell_type": "markdown",
   "metadata": {},
   "source": [
    "# Execution: Start the agents"
   ]
  },
  {
   "cell_type": "markdown",
   "metadata": {},
   "source": [
    "When ready to start collecting metrics from Collectors, using the Historian to record them,  start the agents."
   ]
  },
  {
   "cell_type": "code",
   "execution_count": null,
   "metadata": {
    "collapsed": true
   },
   "outputs": [],
   "source": [
    "print('Wait for the list to be displayed, then confirm that each started agent is running...')\n",
    "\n",
    "_sh('volttron-ctl start --tag sqlite_historian')\n",
    "_sh('volttron-ctl start --tag vcp')\n",
    "_sh('volttron-ctl start --tag vc')\n",
    "\n",
    "# List agent status to verify that the started agents have status \"running\".\n",
    "_print_sh('volttron-ctl status', stderr=subprocess.STDOUT)"
   ]
  },
  {
   "cell_type": "markdown",
   "metadata": {},
   "source": [
    "# Data Reporting: Prepare to Execute Sqlite Commands"
   ]
  },
  {
   "cell_type": "code",
   "execution_count": null,
   "metadata": {
    "collapsed": true
   },
   "outputs": [],
   "source": [
    "# Define a function that executes SQLite commands on our Historian database\n",
    "def run_sqlite_cmd(command_string):\n",
    "    _print_sh('sqlite3 {0} {1}'.format(data_dir + '/historian.sqlite', command_string))"
   ]
  },
  {
   "cell_type": "markdown",
   "metadata": {},
   "source": [
    "# Data Reporting: Describe the Historian's Database Schema"
   ]
  },
  {
   "cell_type": "markdown",
   "metadata": {},
   "source": [
    "Start the data reporting process by displaying the schema of the Historian's SQLite database."
   ]
  },
  {
   "cell_type": "code",
   "execution_count": null,
   "metadata": {
    "collapsed": true
   },
   "outputs": [],
   "source": [
    "run_sqlite_cmd('\".schema\"')"
   ]
  },
  {
   "cell_type": "markdown",
   "metadata": {},
   "source": [
    "# Data Reporting: List the Topics"
   ]
  },
  {
   "cell_type": "markdown",
   "metadata": {},
   "source": [
    "List each topic in the database's topics_table. This is the list of each type of data that has been captured and stored."
   ]
  },
  {
   "cell_type": "code",
   "execution_count": null,
   "metadata": {
    "collapsed": true
   },
   "outputs": [],
   "source": [
    "run_sqlite_cmd('\"SELECT * FROM topics_table;\"')"
   ]
  },
  {
   "cell_type": "markdown",
   "metadata": {},
   "source": [
    "# Data Reporting: List Values for a Single Topic"
   ]
  },
  {
   "cell_type": "markdown",
   "metadata": {},
   "source": [
    "Select a single topic by name, and list each value in the database for it."
   ]
  },
  {
   "cell_type": "code",
   "execution_count": null,
   "metadata": {
    "collapsed": true
   },
   "outputs": [],
   "source": [
    "topic_name = 'simstorage/soc_kwh'\n",
    "\n",
    "display_variables = 'ts, value_string'\n",
    "join_statement = 'INNER JOIN topics_table on (data_table.topic_id = topics_table.topic_id) '\n",
    "sqlite_cmd = '''\"SELECT {0} FROM data_table {1} WHERE topics_table.topic_name = '{2}';\"'''.format(\n",
    "    display_variables,\n",
    "    join_statement,\n",
    "    topic_name)\n",
    "print('sqlite command: \\n{0}\\n'.format(sqlite_cmd))\n",
    "\n",
    "run_sqlite_cmd(sqlite_cmd)"
   ]
  },
  {
   "cell_type": "markdown",
   "metadata": {},
   "source": [
    "# Data Reporting: Graph Values for a Single Topic"
   ]
  },
  {
   "cell_type": "markdown",
   "metadata": {},
   "source": [
    "Use numpy and matplotlib to produce a graph of the values for a topic."
   ]
  },
  {
   "cell_type": "code",
   "execution_count": null,
   "metadata": {
    "collapsed": true
   },
   "outputs": [],
   "source": [
    "topic_name = 'simstorage/soc_kwh'\n",
    "\n",
    "display_variables = 'ts, value_string'\n",
    "join_statement = 'INNER JOIN topics_table on (data_table.topic_id = topics_table.topic_id) '\n",
    "sqlite_cmd = '''SELECT {0} FROM data_table {1} WHERE topics_table.topic_name = '{2}';'''.format(\n",
    "    display_variables,\n",
    "    join_statement,\n",
    "    topic_name)\n",
    "print('sqlite command: \\n{0}\\n'.format(sqlite_cmd))\n",
    "\n",
    "import numpy\n",
    "import matplotlib.pyplot as plt\n",
    "from matplotlib import dates\n",
    "\n",
    "# Connect to the SQLite database\n",
    "conn = sqlite3.connect(data_dir + '/historian.sqlite')\n",
    "c = conn.cursor()\n",
    "\n",
    "# Populate graphArray with the result of querying the database for the specified topic.\n",
    "graphArray = []\n",
    "for row in c.execute(sqlite_cmd):\n",
    "    # Remove parentheses and single quotes\n",
    "    row_string_filtered = str(row).translate(None, \"()'u\\'\")\n",
    "    # In Python 3, the Unicode string would need to be filtered like this:\n",
    "    # row_string_filtered = str(row).translate({ord(c): None for c in \"()'u\\'\"})\n",
    "    graphArray.append(row_string_filtered)\n",
    "\n",
    "if graphArray:\n",
    "    timestamps, values = numpy.loadtxt(graphArray,\n",
    "                                       delimiter=',',\n",
    "                                       unpack=True,\n",
    "                                       converters={0: dates.strpdate2num('%Y-%m-%dT%H:%M:%S.%f+00:00')})\n",
    "    fig = plt.figure()\n",
    "    fig.add_subplot(1, 1, 1, facecolor='white')\n",
    "    plt.plot_date(x=timestamps, y=values, fmt='b-')\n",
    "    plt.gcf().autofmt_xdate()\n",
    "    plt.show()\n",
    "else:\n",
    "    print('No data returned from query')"
   ]
  },
  {
   "cell_type": "markdown",
   "metadata": {},
   "source": [
    "# Shutdown: Stop all agents"
   ]
  },
  {
   "cell_type": "markdown",
   "metadata": {},
   "source": [
    "When finished, stop all VOLTTRON agents."
   ]
  },
  {
   "cell_type": "code",
   "execution_count": null,
   "metadata": {
    "collapsed": true
   },
   "outputs": [],
   "source": [
    "# Stop all agents.\n",
    "_sh('volttron-ctl shutdown')\n",
    "\n",
    "# Verify that all agents have been stopped.\n",
    "_print_sh('volttron-ctl status', stderr=subprocess.STDOUT)"
   ]
  }
 ],
 "metadata": {
  "kernelspec": {
   "display_name": "Python 2",
   "language": "python",
   "name": "python2"
  },
  "language_info": {
   "codemirror_mode": {
    "name": "ipython",
    "version": 2
   },
   "file_extension": ".py",
   "mimetype": "text/x-python",
   "name": "python",
   "nbconvert_exporter": "python",
   "pygments_lexer": "ipython2",
   "version": "2.7.12"
  }
 },
 "nbformat": 4,
 "nbformat_minor": 2
}
